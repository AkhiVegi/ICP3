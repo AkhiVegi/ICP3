{
 "cells": [
  {
   "cell_type": "code",
   "execution_count": 3,
   "id": "94e5deb4-9de6-41e7-8c66-0622545f23bf",
   "metadata": {},
   "outputs": [
    {
     "name": "stdout",
     "output_type": "stream",
     "text": [
      "Total number of employees is  3\n",
      "The average salary is  10000.0\n",
      "The fulltime employee name is  Akhi\n",
      "The experience of fulltime employee is  4\n"
     ]
    }
   ],
   "source": [
    "# Program to create Employee class and perform some actions to print employees count and average salary\n",
    "class Employee:\n",
    "    # data member to count the number of Employees\n",
    "    employee_count = 0\n",
    "\n",
    "    def __init__(self, name, family, salary, department):\n",
    "        # instance variables\n",
    "        self.name = name\n",
    "        self.family = family\n",
    "        self.salary = salary\n",
    "        self.department = department\n",
    "\n",
    "        # Increment the employee count\n",
    "        Employee.employee_count += 1 \n",
    "\n",
    "    \n",
    "    def average_salary(employees):\n",
    "        # method to calculate average salary\n",
    "        total_salary = sum(emp.salary for emp in employees) # total salary of all employees\n",
    "        return total_salary / len(employees) # average salary\n",
    "\n",
    "class FulltimeEmployee(Employee):\n",
    "    def __init__(self, name, family, salary, department, experience):\n",
    "        # invoke the constructor of the base class\n",
    "        super().__init__(name, family, salary, department)\n",
    "        self.experience = experience\n",
    "\n",
    "# create the instances of Employee class\n",
    "employee1 = Employee(\"Akhila\", \"Akhila Family\", 5000, \"Finance\")\n",
    "employee2 = Employee(\"Akhil\", \"Akhil Family\", 10000, \"Acounting\")\n",
    "\n",
    "# create the instances of FulltimeEmployee class\n",
    "fulltime_employee = FulltimeEmployee(\"Akhi\", \"Akhi Family\", 15000, \"IT\", 4)\n",
    "\n",
    "employees = [employee1, employee2, fulltime_employee]\n",
    "avg_salary = Employee.average_salary(employees)\n",
    "\n",
    "# Access the properties of Employee and FulltimeEmployee\n",
    "print(\"Total number of employees is \", Employee.employee_count)\n",
    "print(\"The average salary is \", avg_salary)\n",
    "print(\"The fulltime employee name is \", fulltime_employee.name)\n",
    "print(\"The experience of fulltime employee is \", fulltime_employee.experience)\n"
   ]
  },
  {
   "cell_type": "code",
   "execution_count": 10,
   "id": "fc405982-1e23-43f4-8504-bcfcc1638e8f",
   "metadata": {
    "editable": true,
    "slideshow": {
     "slide_type": ""
    },
    "tags": []
   },
   "outputs": [
    {
     "name": "stdout",
     "output_type": "stream",
     "text": [
      "\u001b[33mDEPRECATION: Loading egg at /Library/Frameworks/Python.framework/Versions/3.12/lib/python3.12/site-packages/jupyter-1.0.0-py3.12.egg is deprecated. pip 24.3 will enforce this behaviour change. A possible replacement is to use pip for package installation.. Discussion can be found at https://github.com/pypa/pip/issues/12330\u001b[0m\u001b[33m\n",
      "\u001b[0mCollecting numpy\n",
      "  Downloading numpy-1.26.3-cp312-cp312-macosx_11_0_arm64.whl.metadata (61 kB)\n",
      "\u001b[2K     \u001b[90m━━━━━━━━━━━━━━━━━━━━━━━━━━━━━━━━━━━━━━━\u001b[0m \u001b[32m61.2/61.2 kB\u001b[0m \u001b[31m403.2 kB/s\u001b[0m eta \u001b[36m0:00:00\u001b[0ma \u001b[36m0:00:01\u001b[0m\n",
      "\u001b[?25hDownloading numpy-1.26.3-cp312-cp312-macosx_11_0_arm64.whl (13.7 MB)\n",
      "\u001b[2K   \u001b[90m━━━━━━━━━━━━━━━━━━━━━━━━━━━━━━━━━━━━━━━━\u001b[0m \u001b[32m13.7/13.7 MB\u001b[0m \u001b[31m41.1 MB/s\u001b[0m eta \u001b[36m0:00:00\u001b[0m00:01\u001b[0m00:01\u001b[0m\n",
      "\u001b[?25hInstalling collected packages: numpy\n",
      "Successfully installed numpy-1.26.3\n"
     ]
    }
   ],
   "source": [
    "!pip install numpy"
   ]
  },
  {
   "cell_type": "code",
   "execution_count": 11,
   "id": "a155a501-9b30-43dc-adba-689cb7305f25",
   "metadata": {
    "editable": true,
    "slideshow": {
     "slide_type": ""
    },
    "tags": []
   },
   "outputs": [],
   "source": [
    "import numpy as np"
   ]
  },
  {
   "cell_type": "code",
   "execution_count": 12,
   "id": "3f32832b-dbff-4ad5-b419-ec1e5c360137",
   "metadata": {
    "editable": true,
    "slideshow": {
     "slide_type": ""
    },
    "tags": []
   },
   "outputs": [
    {
     "name": "stdout",
     "output_type": "stream",
     "text": [
      "\n",
      "Original Random Vector:\n",
      "[ 9.27518272  6.51435914  1.95075723 15.08262408  4.45038008 19.52009232\n",
      " 10.49812865 16.7399312   6.51660138  8.35082648  4.42262951 14.06118838\n",
      " 19.15704679 14.27205003 16.76753692  5.92524498  3.13336461 17.42782801\n",
      " 14.16094429 12.77282871]\n",
      "\n",
      "Reshaped array:\n",
      "[[ 9.27518272  6.51435914  1.95075723  0.          4.45038008]\n",
      " [ 0.         10.49812865 16.7399312   6.51660138  8.35082648]\n",
      " [ 4.42262951 14.06118838  0.         14.27205003 16.76753692]\n",
      " [ 5.92524498  3.13336461  0.         14.16094429 12.77282871]]\n"
     ]
    }
   ],
   "source": [
    "# Program to print reshaped array using numpy\n",
    "\n",
    "# create random vector of size 20 having only float in the range 1-20\n",
    "random_vector = np.random.uniform(1, 20, size=20) #get the random samples from uniform distribution and returns the random samples as numpy array\n",
    "print(\"\\nOriginal Random Vector:\")\n",
    "print(random_vector)\n",
    "\n",
    "reshaped_array = random_vector.reshape(4, 5) # reshape an array to 4X5\n",
    "\n",
    "max_indices = np.argmax(reshaped_array, axis=1) #replace the max in each row by 0 (axis=1)\n",
    "\n",
    "reshaped_array[np.arange(4), max_indices] = 0\n",
    "\n",
    "print(\"\\nReshaped array:\")\n",
    "print(reshaped_array)"
   ]
  }
 ],
 "metadata": {
  "kernelspec": {
   "display_name": "Python 3 (ipykernel)",
   "language": "python",
   "name": "python3"
  },
  "language_info": {
   "codemirror_mode": {
    "name": "ipython",
    "version": 3
   },
   "file_extension": ".py",
   "mimetype": "text/x-python",
   "name": "python",
   "nbconvert_exporter": "python",
   "pygments_lexer": "ipython3",
   "version": "3.12.1"
  }
 },
 "nbformat": 4,
 "nbformat_minor": 5
}
